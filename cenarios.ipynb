{
 "cells": [
  {
   "cell_type": "code",
   "execution_count": 1,
   "metadata": {},
   "outputs": [],
   "source": [
    "import cv2\n",
    "import numpy as np\n",
    "import os\n",
    "import matplotlib.pyplot as plt\n",
    "from ultralytics import YOLO"
   ]
  },
  {
   "cell_type": "code",
   "execution_count": 2,
   "metadata": {},
   "outputs": [],
   "source": [
    "model = YOLO('model.pt')"
   ]
  },
  {
   "cell_type": "code",
   "execution_count": 15,
   "metadata": {},
   "outputs": [],
   "source": [
    "def evaluate_model(yaml):\n",
    "    results = model.val(data=yaml)\n",
    "    map_50 = results.results_dict['metrics/mAP50(B)']\n",
    "    return map_50"
   ]
  },
  {
   "cell_type": "code",
   "execution_count": 20,
   "metadata": {},
   "outputs": [
    {
     "name": "stdout",
     "output_type": "stream",
     "text": [
      "Ultralytics YOLOv8.1.47 🚀 Python-3.10.13 torch-2.2.2+cu121 CPU (Intel Core(TM) i3-10100F 3.60GHz)\n"
     ]
    },
    {
     "name": "stderr",
     "output_type": "stream",
     "text": [
      "\u001b[34m\u001b[1mval: \u001b[0mScanning /media/mateus/usarLinux/video/luz/val/labels... 25 images, 0 backgrounds, 0 corrupt: 100%|██████████| 25/25 [00:00<00:00, 2400.59it/s]"
     ]
    },
    {
     "name": "stdout",
     "output_type": "stream",
     "text": [
      "\u001b[34m\u001b[1mval: \u001b[0mNew cache created: /media/mateus/usarLinux/video/luz/val/labels.cache\n",
      "WARNING ⚠️ Box and segment counts should be equal, but got len(segments) = 10, len(boxes) = 37. To resolve this only boxes will be used and all segments will be removed. To avoid this please supply either a detect or segment dataset, not a detect-segment mixed dataset.\n"
     ]
    },
    {
     "name": "stderr",
     "output_type": "stream",
     "text": [
      "\n",
      "                 Class     Images  Instances      Box(P          R      mAP50  mAP50-95): 100%|██████████| 2/2 [00:02<00:00,  1.32s/it]\n"
     ]
    },
    {
     "name": "stdout",
     "output_type": "stream",
     "text": [
      "                   all         25         37      0.839      0.876      0.926      0.648\n",
      "                person         25         27      0.869      0.852       0.92      0.615\n",
      "                  door         25         10      0.809        0.9      0.932      0.682\n",
      "Speed: 2.2ms preprocess, 96.4ms inference, 0.0ms loss, 0.3ms postprocess per image\n",
      "Results saved to \u001b[1mruns/detect/val\u001b[0m\n",
      "mAP@0.5: 0.9259822814282186\n"
     ]
    }
   ],
   "source": [
    "map_50_luz = evaluate_model('/media/mateus/usarLinux/video/luz/data.yaml')\n",
    "print(f\"mAP@0.5: {map_50_luz}\")"
   ]
  },
  {
   "cell_type": "code",
   "execution_count": 17,
   "metadata": {},
   "outputs": [
    {
     "name": "stdout",
     "output_type": "stream",
     "text": [
      "Ultralytics YOLOv8.1.47 🚀 Python-3.10.13 torch-2.2.2+cu121 CPU (Intel Core(TM) i3-10100F 3.60GHz)\n"
     ]
    },
    {
     "name": "stderr",
     "output_type": "stream",
     "text": [
      "\u001b[34m\u001b[1mval: \u001b[0mScanning /media/mateus/usarLinux/video/escuro/val/labels.cache... 21 images, 0 backgrounds, 0 corrupt: 100%|██████████| 21/21 [00:00<?, ?it/s]"
     ]
    },
    {
     "name": "stdout",
     "output_type": "stream",
     "text": [
      "WARNING ⚠️ Box and segment counts should be equal, but got len(segments) = 5, len(boxes) = 57. To resolve this only boxes will be used and all segments will be removed. To avoid this please supply either a detect or segment dataset, not a detect-segment mixed dataset.\n"
     ]
    },
    {
     "name": "stderr",
     "output_type": "stream",
     "text": [
      "\n",
      "                 Class     Images  Instances      Box(P          R      mAP50  mAP50-95): 100%|██████████| 2/2 [00:02<00:00,  1.10s/it]\n"
     ]
    },
    {
     "name": "stdout",
     "output_type": "stream",
     "text": [
      "                   all         21         57      0.671       0.56      0.665      0.467\n",
      "                person         21         52      0.785      0.519      0.719      0.531\n",
      "                  door         21          5      0.556        0.6      0.612      0.404\n",
      "Speed: 2.1ms preprocess, 94.2ms inference, 0.0ms loss, 0.8ms postprocess per image\n",
      "Results saved to \u001b[1mruns/detect/val\u001b[0m\n",
      "mAP@0.5: 0.6653779180721406\n"
     ]
    }
   ],
   "source": [
    "map_50_escuro = evaluate_model('/media/mateus/usarLinux/video/escuro/data.yaml')\n",
    "print(f\"mAP@0.5: {map_50_escuro}\")"
   ]
  },
  {
   "cell_type": "code",
   "execution_count": 18,
   "metadata": {},
   "outputs": [
    {
     "name": "stdout",
     "output_type": "stream",
     "text": [
      "Ultralytics YOLOv8.1.47 🚀 Python-3.10.13 torch-2.2.2+cu121 CPU (Intel Core(TM) i3-10100F 3.60GHz)\n"
     ]
    },
    {
     "name": "stderr",
     "output_type": "stream",
     "text": [
      "\u001b[34m\u001b[1mval: \u001b[0mScanning /media/mateus/usarLinux/video/distante/val/labels.cache... 23 images, 4 backgrounds, 0 corrupt: 100%|██████████| 23/23 [00:00<?, ?it/s]\n",
      "                 Class     Images  Instances      Box(P          R      mAP50  mAP50-95): 100%|██████████| 2/2 [00:01<00:00,  1.01it/s]\n"
     ]
    },
    {
     "name": "stdout",
     "output_type": "stream",
     "text": [
      "                   all         23         52       0.65       0.68      0.701      0.361\n",
      "                person         23         49      0.833      0.694      0.862      0.578\n",
      "                  door         23          3      0.468      0.667       0.54      0.145\n",
      "Speed: 1.9ms preprocess, 71.0ms inference, 0.0ms loss, 0.3ms postprocess per image\n",
      "Results saved to \u001b[1mruns/detect/val\u001b[0m\n",
      "mAP@0.5: 0.7006033208384812\n"
     ]
    }
   ],
   "source": [
    "map_50_distante = evaluate_model('/media/mateus/usarLinux/video/distante/data.yaml')\n",
    "print(f\"mAP@0.5: {map_50_distante}\")"
   ]
  },
  {
   "cell_type": "code",
   "execution_count": 19,
   "metadata": {},
   "outputs": [
    {
     "name": "stdout",
     "output_type": "stream",
     "text": [
      "Ultralytics YOLOv8.1.47 🚀 Python-3.10.13 torch-2.2.2+cu121 CPU (Intel Core(TM) i3-10100F 3.60GHz)\n"
     ]
    },
    {
     "name": "stderr",
     "output_type": "stream",
     "text": [
      "\u001b[34m\u001b[1mval: \u001b[0mScanning /media/mateus/usarLinux/video/perto/val/labels.cache... 23 images, 0 backgrounds, 0 corrupt: 100%|██████████| 23/23 [00:00<?, ?it/s]"
     ]
    },
    {
     "name": "stdout",
     "output_type": "stream",
     "text": [
      "WARNING ⚠️ Box and segment counts should be equal, but got len(segments) = 10, len(boxes) = 32. To resolve this only boxes will be used and all segments will be removed. To avoid this please supply either a detect or segment dataset, not a detect-segment mixed dataset.\n"
     ]
    },
    {
     "name": "stderr",
     "output_type": "stream",
     "text": [
      "\n",
      "                 Class     Images  Instances      Box(P          R      mAP50  mAP50-95): 100%|██████████| 2/2 [00:02<00:00,  1.07s/it]\n"
     ]
    },
    {
     "name": "stdout",
     "output_type": "stream",
     "text": [
      "                   all         23         32      0.867      0.882      0.924      0.657\n",
      "                person         23         22      0.926      0.864      0.927      0.637\n",
      "                  door         23         10      0.808        0.9      0.921      0.676\n",
      "Speed: 1.7ms preprocess, 83.6ms inference, 0.0ms loss, 0.7ms postprocess per image\n",
      "Results saved to \u001b[1mruns/detect/val\u001b[0m\n",
      "mAP@0.5: 0.9243326885671908\n"
     ]
    }
   ],
   "source": [
    "map_50_perto = evaluate_model('/media/mateus/usarLinux/video/perto/data.yaml')\n",
    "print(f\"mAP@0.5: {map_50_perto}\")"
   ]
  },
  {
   "cell_type": "code",
   "execution_count": 26,
   "metadata": {},
   "outputs": [
    {
     "data": {
      "image/png": "[encoded data removed]",
      "text/plain": [
       "<Figure size 640x480 with 1 Axes>"
      ]
     },
     "metadata": {},
     "output_type": "display_data"
    }
   ],
   "source": [
    "%matplotlib inline\n",
    "plt.bar(['Muita iluminação', '  Pouca iluminação', 'Distante', 'Perto'], \n",
    "        [map_50_luz, map_50_escuro, map_50_distante, map_50_perto], \n",
    "        color=['blue', 'green', 'red', 'purple'])\n",
    "\n",
    "# Adicionar título e rótulos\n",
    "plt.title('Gráfico de Barras dos Cenário')\n",
    "plt.xlabel('Cenários')\n",
    "plt.ylabel('Accuracy')\n",
    "\n",
    "# Mostrar o gráfico\n",
    "plt.show()"
   ]
  }
 ],
 "metadata": {
  "kernelspec": {
   "display_name": "Python 3",
   "language": "python",
   "name": "python3"
  },
  "language_info": {
   "codemirror_mode": {
    "name": "ipython",
    "version": 3
   },
   "file_extension": ".py",
   "mimetype": "text/x-python",
   "name": "python",
   "nbconvert_exporter": "python",
   "pygments_lexer": "ipython3",
   "version": "3.10.13"
  }
 },
 "nbformat": 4,
 "nbformat_minor": 2
}
